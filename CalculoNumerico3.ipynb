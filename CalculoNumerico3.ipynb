{
 "cells": [
  {
   "cell_type": "markdown",
   "metadata": {},
   "source": [
    "# TRABALHO 3 DE CÁLCULO NUMÉRICO\n",
    "\n",
    "# Alunos: Pedro Machado, João Centenaro e Alex Lima"
   ]
  },
  {
   "cell_type": "markdown",
   "metadata": {},
   "source": [
    "## Questão 1:\n",
    "x = {0,15 |0,17 |0,19 |0,21 |0,23 |0,25 |0,27 |0,29 |0,31}\n",
    "f(x) = {0,1761 |0,2304 |0,2788 |0,3222 |0,3617 |0,3979 |0,4314 |0,4624 |0,4914}\n",
    "\n",
    "a) Utilizando a Forma de Lagrange para interpolar todos os pontos tabelados e fazer uma estimativa para f(0,20) e f(0,22)\n",
    "b) Plotar o gráfico do polinômio obtido\n",
    "\n",
    "Pela Forma de Lagrange, temos que $P(x) = y_0 l_0(x) + y_1 l_1(x) + y_2 l_2(x) + y_3 l_3(x) + y_4 l_4(x) + y_5 l_5(x) + y_6 l_6(x) + y_7 l_7(x) + y_8 l_8(x)$\n",
    "\n",
    "Assim, montamos um programa em Python para calcular nosso polinômio e achar os pontos:"
   ]
  },
  {
   "cell_type": "code",
   "execution_count": 7,
   "metadata": {},
   "outputs": [
    {
     "name": "stdout",
     "output_type": "stream",
     "text": [
      "P( 0.2 ) 0.30103611755371096\n",
      "P( 0.22 ) 0.34239778747558597\n"
     ]
    },
    {
     "data": {
      "image/png": "[encoded data removed]",
      "text/plain": [
       "<matplotlib.figure.Figure at 0x1fb3ab0c550>"
      ]
     },
     "metadata": {},
     "output_type": "display_data"
    }
   ],
   "source": [
    "% matplotlib inline\n",
    "import matplotlib.pyplot as plt\n",
    "import numpy as np\n",
    "\n",
    "X = [0.15, 0.17, 0.19, 0.21, 0.23, 0.25, 0.27, 0.29, 0.31]\n",
    "Y = [0.1761, 0.2304, 0.2788, 0.3222, 0.3617, 0.3979, 0.4314, 0.4624, 0.4914]\n",
    "\n",
    "\n",
    "def calcP(x):\n",
    "    valor = 0\n",
    "    for k in range(len(Y)):\n",
    "        lk = 1.0\n",
    "        for i in range(len(X)):\n",
    "            if k != i:\n",
    "                lk = lk*(x - X[i])/(X[k]-X[i])\n",
    "        valor = valor +Y[k]*lk \n",
    "    return valor\n",
    "\n",
    "print (\"P(\",0.20,\")\", calcP(0.20))\n",
    "print (\"P(\",0.22,\")\", calcP(0.22))\n",
    "\n",
    "\n",
    "Xplot = []\n",
    "Yplot = []\n",
    "n = 20              \n",
    "dx = (X[-1]-X[0])/n \n",
    " \n",
    "for i in range(n+1):\n",
    "    x = X[0] + i*dx\n",
    "    y = calcP(x)\n",
    "    Xplot.append(x)\n",
    "    Yplot.append(y)\n",
    "\n",
    "\n",
    "plt.plot(X, Y, \"ro\")  \n",
    "plt.plot(Xplot, Yplot, \"-\") \n",
    "plt.grid(True) \n",
    "plt.show()"
   ]
  },
  {
   "cell_type": "markdown",
   "metadata": {},
   "source": [
    "c) A questão pede um polinômio de grau 3, logo temos que usar n+1 termos, que é 4.\n",
    "Assim, podemos repetir o código anterior para 4 termos equidistantes, ao invés dos 9 dados:"
   ]
  },
  {
   "cell_type": "code",
   "execution_count": 8,
   "metadata": {},
   "outputs": [
    {
     "name": "stdout",
     "output_type": "stream",
     "text": [
      "P( 0.2 ) 0.30095078124999997\n",
      "P( 0.22 ) 0.34244296875\n"
     ]
    },
    {
     "data": {
      "image/png": "[encoded data removed]",
      "text/plain": [
       "<matplotlib.figure.Figure at 0x1fb3a8b74e0>"
      ]
     },
     "metadata": {},
     "output_type": "display_data"
    }
   ],
   "source": [
    "% matplotlib inline\n",
    "import matplotlib.pyplot as plt\n",
    "import numpy as np\n",
    "\n",
    "X = [0.17, 0.21, 0.25, 0.29]\n",
    "Y = [0.2304, 0.3222, 0.3979, 0.4624]\n",
    "\n",
    "\n",
    "def calcP(x):\n",
    "    valor = 0\n",
    "    for k in range(len(Y)):\n",
    "        lk = 1.0\n",
    "        for i in range(len(X)):\n",
    "            if k != i:\n",
    "                lk = lk*(x - X[i])/(X[k]-X[i])\n",
    "        valor = valor +Y[k]*lk \n",
    "    return valor\n",
    "\n",
    "print (\"P(\",0.20,\")\", calcP(0.20))\n",
    "print (\"P(\",0.22,\")\", calcP(0.22))\n",
    "\n",
    "\n",
    "Xplot = []\n",
    "Yplot = []\n",
    "n = 20              \n",
    "dx = (X[-1]-X[0])/n \n",
    " \n",
    "for i in range(n+1):\n",
    "    x = X[0] + i*dx\n",
    "    y = calcP(x)\n",
    "    Xplot.append(x)\n",
    "    Yplot.append(y)\n",
    "\n",
    "\n",
    "plt.plot(X, Y, \"ro\")  \n",
    "plt.plot(Xplot, Yplot, \"-\") \n",
    "plt.grid(True) \n",
    "plt.show()"
   ]
  },
  {
   "cell_type": "markdown",
   "metadata": {},
   "source": [
    "Assim, pelo gráfico, podemos notar que a curva é semelhante a da letra b), porém os valores dos pontos são menos aproximados, devido ao menor número de ponto avaliados para a interpolação"
   ]
  },
  {
   "cell_type": "markdown",
   "metadata": {},
   "source": [
    "d) Para a Fórmula de Newton, usaremos as diferenças divididas, dadas pela forma:\n",
    "$$f[x_0,x_1,x_2,x_3,x_4,x_5,x_6,x_7,x_8]= \\frac{f[x_1,x_2,x_3,x_4,x_5,x_6,x_7,x_8] - f[x_0,x_1,x_2,x_3,x_4,x_5,x_6,x_7]}{x_8 - x_0} $$\n",
    "\n",
    "Assim, montamos o programa:"
   ]
  },
  {
   "cell_type": "code",
   "execution_count": 16,
   "metadata": {},
   "outputs": [
    {
     "name": "stdout",
     "output_type": "stream",
     "text": [
      "P( 0.2 ) 0.30103611755371096\n",
      "P( 0.22 ) 0.342397787475586\n"
     ]
    },
    {
     "data": {
      "image/png": "[encoded data removed]",
      "text/plain": [
       "<matplotlib.figure.Figure at 0x1fb3afc0320>"
      ]
     },
     "metadata": {},
     "output_type": "display_data"
    }
   ],
   "source": [
    "% matplotlib inline\n",
    "import numpy as np\n",
    "import matplotlib.pyplot as plt\n",
    "\n",
    "# Definindo a lista de pontos a serem interpolados\n",
    "X  = [0.15, 0.17, 0.19, 0.21, 0.23, 0.25, 0.27, 0.29, 0.31]\n",
    "Y  = [0.1761, 0.2304, 0.2788, 0.3222, 0.3617, 0.3979, 0.4314, 0.4624, 0.4914]    \n",
    "dd = []  #dd sendo as diferenças divididas  \n",
    "\n",
    "\n",
    "\n",
    "\n",
    "dd.append(Y) \n",
    "     \n",
    "\n",
    "\n",
    "for ordem in range(1, len(X), 1):\n",
    "    dd.append([])   \n",
    "    \n",
    "    \n",
    "    for k in range(0, len(X)-ordem, 1): \n",
    "         \n",
    "        valor = (dd[ordem-1][k+1]-dd[ordem-1][k])/(X[k+ordem]-X[k])    \n",
    "               \n",
    "        dd[ordem].append(valor)\n",
    "    \n",
    "\n",
    "\n",
    "def produtorio(x,n):\n",
    "    prod = 1.\n",
    "    for i in range(n):\n",
    "        prod = prod * (x-X[i])\n",
    "    return prod\n",
    "\n",
    "\n",
    "def calculaP(x):\n",
    "    soma = dd[0][0]\n",
    "    for i in range(1,len(X)):\n",
    "        soma = soma + produtorio(x,i)*dd[i][0]\n",
    "    return soma\n",
    "\n",
    "print (\"P(\",0.20,\")\", calculaP(0.20))\n",
    "print (\"P(\",0.22,\")\", calculaP(0.22))\n",
    "\n",
    "Xp = np.linspace(X[0], X[-1], num=10) \n",
    "Yp = []\n",
    "for x in Xp:\n",
    "    y = calculaP(x)\n",
    "    Yp.append(y)\n",
    "\n",
    "    \n",
    "plt.plot(X, Y, 'ro', Xp, Yp,'-', )\n",
    "plt.grid()\n",
    "plt.show()"
   ]
  },
  {
   "cell_type": "code",
   "execution_count": null,
   "metadata": {},
   "outputs": [],
   "source": []
  }
 ],
 "metadata": {
  "kernelspec": {
   "display_name": "Python 3",
   "language": "python",
   "name": "python3"
  },
  "language_info": {
   "codemirror_mode": {
    "name": "ipython",
    "version": 3
   },
   "file_extension": ".py",
   "mimetype": "text/x-python",
   "name": "python",
   "nbconvert_exporter": "python",
   "pygments_lexer": "ipython3",
   "version": "3.6.4"
  }
 },
 "nbformat": 4,
 "nbformat_minor": 2
}
