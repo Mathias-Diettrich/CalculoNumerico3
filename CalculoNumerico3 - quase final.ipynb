{
 "cells": [
  {
   "cell_type": "markdown",
   "metadata": {},
   "source": [
    "# TRABALHO 3 DE CÁLCULO NUMÉRICO\n",
    "\n",
    "# Alunos: Pedro Machado, João Centenaro e Alex Lima"
   ]
  },
  {
   "cell_type": "markdown",
   "metadata": {},
   "source": [
    "## Questão 1:\n",
    "x = {0,15 |0,17 |0,19 |0,21 |0,23 |0,25 |0,27 |0,29 |0,31}\n",
    "\n",
    "f(x) = {0,1761 |0,2304 |0,2788 |0,3222 |0,3617 |0,3979 |0,4314 |0,4624 |0,4914}\n",
    "\n",
    "a) Utilizando a Forma de Lagrange para interpolar todos os pontos tabelados e fazer uma estimativa para f(0,20) e f(0,22)\n",
    "b) Plotar o gráfico do polinômio obtido\n",
    "\n",
    "Pela Forma de Lagrange, temos que $P(x) = y_0 l_0(x) + y_1 l_1(x) + y_2 l_2(x) + y_3 l_3(x) + y_4 l_4(x) + y_5 l_5(x) + y_6 l_6(x) + y_7 l_7(x) + y_8 l_8(x)$\n",
    "\n",
    "Assim, montamos um programa em Python para calcular nosso polinômio e achar os pontos:"
   ]
  },
  {
   "cell_type": "code",
   "execution_count": 7,
   "metadata": {},
   "outputs": [
    {
     "name": "stdout",
     "output_type": "stream",
     "text": [
      "P( 0.2 ) 0.30103611755371096\n",
      "P( 0.22 ) 0.34239778747558597\n"
     ]
    },
    {
     "data": {
      "image/png": "[encoded data removed]",
      "text/plain": [
       "<matplotlib.figure.Figure at 0x1fb3ab0c550>"
      ]
     },
     "metadata": {},
     "output_type": "display_data"
    }
   ],
   "source": [
    "% matplotlib inline\n",
    "import matplotlib.pyplot as plt\n",
    "import numpy as np\n",
    "\n",
    "X = [0.15, 0.17, 0.19, 0.21, 0.23, 0.25, 0.27, 0.29, 0.31]\n",
    "Y = [0.1761, 0.2304, 0.2788, 0.3222, 0.3617, 0.3979, 0.4314, 0.4624, 0.4914]\n",
    "\n",
    "\n",
    "def calcP(x):\n",
    "    valor = 0\n",
    "    for k in range(len(Y)):\n",
    "        lk = 1.0\n",
    "        for i in range(len(X)):\n",
    "            if k != i:\n",
    "                lk = lk*(x - X[i])/(X[k]-X[i])\n",
    "        valor = valor +Y[k]*lk \n",
    "    return valor\n",
    "\n",
    "print (\"P(\",0.20,\")\", calcP(0.20))\n",
    "print (\"P(\",0.22,\")\", calcP(0.22))\n",
    "\n",
    "\n",
    "Xplot = []\n",
    "Yplot = []\n",
    "n = 20              \n",
    "dx = (X[-1]-X[0])/n \n",
    " \n",
    "for i in range(n+1):\n",
    "    x = X[0] + i*dx\n",
    "    y = calcP(x)\n",
    "    Xplot.append(x)\n",
    "    Yplot.append(y)\n",
    "\n",
    "\n",
    "plt.plot(X, Y, \"ro\")  \n",
    "plt.plot(Xplot, Yplot, \"-\") \n",
    "plt.grid(True) \n",
    "plt.show()"
   ]
  },
  {
   "cell_type": "markdown",
   "metadata": {},
   "source": [
    "c) A questão pede um polinômio de grau 3, logo temos que usar n+1 termos, que é 4. Assim, podemos repetir o código anterior para 4 termos equidistantes, ao invés dos 9 dados:"
   ]
  },
  {
   "cell_type": "code",
   "execution_count": 159,
   "metadata": {},
   "outputs": [
    {
     "name": "stdout",
     "output_type": "stream",
     "text": [
      "P( 0.2 ) 0.30095078124999997\n",
      "P( 0.22 ) 0.34244296875\n"
     ]
    },
    {
     "data": {
      "image/png": "[encoded data removed]",
      "text/plain": [
       "<matplotlib.figure.Figure at 0x1fb3d2fa748>"
      ]
     },
     "metadata": {},
     "output_type": "display_data"
    }
   ],
   "source": [
    "% matplotlib inline\n",
    "import matplotlib.pyplot as plt\n",
    "import numpy as np\n",
    "\n",
    "X = [0.17, 0.21, 0.25, 0.29]\n",
    "Y = [0.2304, 0.3222, 0.3979, 0.4624]\n",
    "\n",
    "\n",
    "def calcP(x):\n",
    "    valor = 0\n",
    "    for k in range(len(Y)):\n",
    "        lk = 1.0\n",
    "        for i in range(len(X)):\n",
    "            if k != i:\n",
    "                lk = lk*(x - X[i])/(X[k]-X[i])\n",
    "        valor = valor +Y[k]*lk \n",
    "    return valor\n",
    "\n",
    "print (\"P(\",0.20,\")\", calcP(0.20))\n",
    "print (\"P(\",0.22,\")\", calcP(0.22))\n",
    "\n",
    "\n",
    "Xplot = []\n",
    "Yplot = []\n",
    "n = 20              \n",
    "dx = (X[-1]-X[0])/n \n",
    " \n",
    "for i in range(n+1):\n",
    "    x = X[0] + i*dx\n",
    "    y = calcP(x)\n",
    "    Xplot.append(x)\n",
    "    Yplot.append(y)\n",
    "\n",
    "\n",
    "plt.plot(X, Y, \"ro\")  \n",
    "plt.plot(Xplot, Yplot, \"-\") \n",
    "plt.grid(True) \n",
    "plt.show()"
   ]
  },
  {
   "cell_type": "markdown",
   "metadata": {},
   "source": [
    "Assim, pelo gráfico, podemos notar que a curva é semelhante a da letra b), porém os valores dos pontos são menos aproximados, devido ao menor número de ponto avaliados para a interpolação"
   ]
  },
  {
   "cell_type": "markdown",
   "metadata": {},
   "source": [
    "d) Para a Fórmula de Newton, usaremos as diferenças divididas, dadas pela forma:\n",
    "$$f[x_0,x_1,x_2,x_3,x_4,x_5,x_6,x_7,x_8]= \\frac{f[x_1,x_2,x_3,x_4,x_5,x_6,x_7,x_8] - f[x_0,x_1,x_2,x_3,x_4,x_5,x_6,x_7]}{x_8 - x_0} $$\n",
    "\n",
    "Assim, montamos o programa:"
   ]
  },
  {
   "cell_type": "code",
   "execution_count": 60,
   "metadata": {},
   "outputs": [
    {
     "name": "stdout",
     "output_type": "stream",
     "text": [
      "P( 0.2 ) 0.30103611755371096\n",
      "P( 0.22 ) 0.342397787475586\n"
     ]
    },
    {
     "data": {
      "image/png": "[encoded data removed]",
      "text/plain": [
       "<matplotlib.figure.Figure at 0x1fb3ba78400>"
      ]
     },
     "metadata": {},
     "output_type": "display_data"
    }
   ],
   "source": [
    "% matplotlib inline\n",
    "import numpy as np\n",
    "import matplotlib.pyplot as plt\n",
    "\n",
    "# Definindo a lista de pontos a serem interpolados\n",
    "X  = [0.15, 0.17, 0.19, 0.21, 0.23, 0.25, 0.27, 0.29, 0.31]\n",
    "Y  = [0.1761, 0.2304, 0.2788, 0.3222, 0.3617, 0.3979, 0.4314, 0.4624, 0.4914]    \n",
    "dd = []  #dd sendo as diferenças divididas  \n",
    "\n",
    "\n",
    "\n",
    "\n",
    "dd.append(Y) \n",
    "     \n",
    "\n",
    "\n",
    "for ordem in range(1, len(X), 1):\n",
    "    dd.append([])   \n",
    "    \n",
    "    \n",
    "    for k in range(0, len(X)-ordem, 1): \n",
    "         \n",
    "        valor = (dd[ordem-1][k+1]-dd[ordem-1][k])/(X[k+ordem]-X[k])    \n",
    "               \n",
    "        dd[ordem].append(valor)\n",
    "    \n",
    "\n",
    "\n",
    "def produtorio(x,n):\n",
    "    prod = 1.\n",
    "    for i in range(n):\n",
    "        prod = prod * (x-X[i])\n",
    "    return prod\n",
    "\n",
    "\n",
    "def calculaP(x):\n",
    "    soma = dd[0][0]\n",
    "    for i in range(1,len(X)):\n",
    "        soma = soma + produtorio(x,i)*dd[i][0]\n",
    "    return soma\n",
    "\n",
    "print (\"P(\",0.20,\")\", calculaP(0.20))\n",
    "print (\"P(\",0.22,\")\", calculaP(0.22))\n",
    "\n",
    "Xp = np.linspace(X[0], X[-1], num=10) \n",
    "Yp = []\n",
    "for x in Xp:\n",
    "    y = calculaP(x)\n",
    "    Yp.append(y)\n",
    "\n",
    "    \n",
    "plt.plot(X, Y, 'ro', Xp, Yp,'-', )\n",
    "plt.grid()\n",
    "plt.show()"
   ]
  },
  {
   "cell_type": "markdown",
   "metadata": {},
   "source": [
    "## Questão 2\n",
    "\n",
    "θ = {50 |52 |54 |56 |58 |60}\n",
    "f(θ) = {2,75 |1,45 |0,50 |0,15 |0,20 |0,85}\n",
    "\n",
    "Como a questão pede para encontrar um polinômio de grau 2, temos que escolher três pontos e aplicar o minimos quadrados:\n"
   ]
  },
  {
   "cell_type": "code",
   "execution_count": 161,
   "metadata": {
    "scrolled": true
   },
   "outputs": [
    {
     "name": "stdout",
     "output_type": "stream",
     "text": [
      "F(X) = 6.13839286(10^-2))x^2 -6.94651786x + 1.96639286(10^2)\n"
     ]
    },
    {
     "data": {
      "image/png": "[encoded data removed]",
      "text/plain": [
       "<matplotlib.figure.Figure at 0x1fb3d2e0208>"
      ]
     },
     "metadata": {},
     "output_type": "display_data"
    }
   ],
   "source": [
    "\n",
    "import numpy as np\n",
    "from scipy.linalg import solve\n",
    "import matplotlib.pyplot as plt\n",
    "\n",
    "X= np.array([50.0, 52.0 ,54.0 ,56.0 ,58.0 ,60.0])\n",
    "Y= np.array([2.75 ,1.45 ,0.50 ,0.15 ,0.20, 0.85])\n",
    "\n",
    "\n",
    "# Calcula os elementos das marizes\n",
    "A11 = np.sum(X**4)\n",
    "A12 = np.sum(X**3)\n",
    "A13 = np.sum(X**2)\n",
    "A21 = A12\n",
    "A22 = np.sum(X**2)\n",
    "A23 = np.sum(X**1)\n",
    "A31 = A13\n",
    "A32 = A23\n",
    "A33 = 6\n",
    "B1 = np.sum(X**2*Y)\n",
    "B2 = np.sum(X*Y)\n",
    "B3 = np.sum(Y)\n",
    "\n",
    "# Monta e resolve o sistema\n",
    "A = np.array([[A11,A12,A13],[A21, A22, A23],[A31,A32,A33]])\n",
    "B = np.array([[B1],[B2],[B3]])\n",
    "a = solve(A, B)\n",
    "\n",
    "# define a funcao g(x) para plotar \n",
    "g = lambda x: 6.13839286*(10**(-2))*x**2 -6.94651786*x + 1.96639286*(10**(2))\n",
    "\n",
    "# cria pontos (x, y) da reta \n",
    "Xr = np.arange(X[0], X[-1]+1, 0.2)\n",
    "Yr = []\n",
    "for x in Xr:\n",
    "    Yr.append(g(x))    \n",
    "print(\"F(X) = 6.13839286(10^-2))x^2 -6.94651786x + 1.96639286(10^2)\")\n",
    "# Plota os pontos e a reta\n",
    "plt.plot(X, Y, \".\", Xr, Yr, \"-\") \n",
    "plt.grid()\n",
    "plt.show()"
   ]
  },
  {
   "cell_type": "markdown",
   "metadata": {},
   "source": [
    "Agora, para determinar o mínimo, derivamos o polinômio e igualamos a 0:\n",
    "P(x) = 12.28*10(-2)x - 6,9465 = 0\n",
    "x = 56,57"
   ]
  },
  {
   "cell_type": "code",
   "execution_count": 162,
   "metadata": {},
   "outputs": [
    {
     "name": "stdout",
     "output_type": "stream",
     "text": [
      "O valor de Fb é: 0.11346438962613092\n"
     ]
    }
   ],
   "source": [
    "import numpy as np\n",
    "from scipy.linalg import solve\n",
    "import matplotlib.pyplot as plt\n",
    "\n",
    "x = 56.57\n",
    "\n",
    "g = lambda x: 6.13839286*(10**(-2))*x**2 -6.94651786*x + 1.96639286*(10**(2))\n",
    "print(\"O valor de Fb é:\",g(x))\n"
   ]
  },
  {
   "cell_type": "markdown",
   "metadata": {},
   "source": [
    "## Questão 3"
   ]
  },
  {
   "cell_type": "code",
   "execution_count": 171,
   "metadata": {},
   "outputs": [
    {
     "name": "stdout",
     "output_type": "stream",
     "text": [
      " y(x) = 1.63135153(10^3))x^2 + 1.39944577(10^2)x + 6.10226320(10^-4)\n"
     ]
    }
   ],
   "source": [
    "% matplotlib inline\n",
    "import numpy as np\n",
    "from scipy.linalg import solve\n",
    "import matplotlib.pyplot as plt\n",
    "\n",
    "X = np.array([0.002 ,0.006 ,0.012 ,0.018 ,0.024])\n",
    "Y = np.array([0.287 ,0.899 ,1.915 ,3.048 ,4.299])\n",
    "\n",
    "A11 = np.sum(X**4)\n",
    "A12 = np.sum(X**3)\n",
    "A13 = np.sum(X**2)\n",
    "A21 = A12\n",
    "A22 = np.sum(X**2)\n",
    "A23 = np.sum(X**1)\n",
    "A31 = A13\n",
    "A32 = A23\n",
    "A33 = 5\n",
    "B1 = np.sum(X**2*Y)\n",
    "B2 = np.sum(X*Y)\n",
    "B3 = np.sum(Y)\n",
    "A = np.array([[A11,A12,A13],[A21, A22, A23],[A31,A32,A33]])\n",
    "B = np.array([[B1],[B2],[B3]])\n",
    "a= solve(A, B)\n",
    "\n",
    "g = lambda x: 1.63135153*(10**(3))*x**2 + 1.39944577*(10**(2))*x + 6.10226320*(10**(-4))\n",
    "\n",
    "print(\" y(x) = 1.63135153(10^3))x^2 + 1.39944577(10^2)x + 6.10226320(10^-4)\")\n"
   ]
  },
  {
   "cell_type": "markdown",
   "metadata": {},
   "source": [
    "dx/dy = 3.26270306(10^3)x + 1.39944577(10^2)"
   ]
  },
  {
   "cell_type": "markdown",
   "metadata": {},
   "source": [
    "## Questão 4\n",
    "a) Plotar os pontos\n",
    "b) Determinar T = 7,5°C"
   ]
  },
  {
   "cell_type": "code",
   "execution_count": 110,
   "metadata": {},
   "outputs": [
    {
     "data": {
      "image/png": "[encoded data removed]",
      "text/plain": [
       "<matplotlib.figure.Figure at 0x1fb3a1b2fd0>"
      ]
     },
     "metadata": {},
     "output_type": "display_data"
    },
    {
     "name": "stdout",
     "output_type": "stream",
     "text": [
      "P( 7.5 ) 1.4068632289341518\n"
     ]
    }
   ],
   "source": [
    "% matplotlib inline\n",
    "import numpy as np\n",
    "from scipy.linalg import solve\n",
    "import matplotlib.pyplot as plt\n",
    "\n",
    "X = [0.0, 5, 10, 20, 30, 40]\n",
    "\n",
    "Y = [1.787, 1.519, 1.307, 1.002, 0.7975, 0.6529]\n",
    "\n",
    "\n",
    "## Plota os pontos \n",
    "\n",
    "plt.grid()\n",
    "\n",
    "plt.plot(X, Y, \".\") \n",
    "\n",
    "plt.show()\n",
    "\n",
    "def calcP(x):\n",
    "    valor = 0\n",
    "    for k in range(len(Y)):\n",
    "        lk = 1.0\n",
    "        for i in range(len(X)):\n",
    "            if k != i:\n",
    "                lk = lk*(x - X[i])/(X[k]-X[i])\n",
    "        valor = valor +Y[k]*lk \n",
    "    return valor\n",
    "\n",
    "print (\"P(\",7.5,\")\", calcP(7.5))\n",
    "\n",
    "\n"
   ]
  },
  {
   "cell_type": "markdown",
   "metadata": {},
   "source": [
    "c) Calculando por regressão polinomial"
   ]
  },
  {
   "cell_type": "code",
   "execution_count": 111,
   "metadata": {},
   "outputs": [
    {
     "name": "stdout",
     "output_type": "stream",
     "text": [
      "[[-4.40476190e-10]\n",
      " [ 1.85297619e-07]\n",
      " [-2.24333333e-05]\n",
      " [ 1.42489881e-03]\n",
      " [-6.01865476e-02]\n",
      " [ 1.78700000e+00]]\n"
     ]
    },
    {
     "name": "stderr",
     "output_type": "stream",
     "text": [
      "D:\\Crash\\Anaconda\\lib\\site-packages\\scipy\\linalg\\basic.py:40: RuntimeWarning: scipy.linalg.solve\n",
      "Ill-conditioned matrix detected. Result is not guaranteed to be accurate.\n",
      "Reciprocal condition number/precision: 5.929554525557527e-17 / 1.1102230246251565e-16\n",
      "  RuntimeWarning)\n"
     ]
    },
    {
     "data": {
      "image/png": "[encoded data removed]",
      "text/plain": [
       "<matplotlib.figure.Figure at 0x1fb3ba876d8>"
      ]
     },
     "metadata": {},
     "output_type": "display_data"
    }
   ],
   "source": [
    "% matplotlib inline\n",
    "import numpy as np\n",
    "from scipy.linalg import solve\n",
    "import matplotlib.pyplot as plt\n",
    "\n",
    "X = np.array([0.0, 5.0, 10.0, 20.0, 30.0, 40.0])\n",
    "Y = np.array([1.787, 1.519, 1.307, 1.002, 0.7975, 0.6529])\n",
    "\n",
    "g10 = X**10\n",
    "g9 = X**9\n",
    "g8 = X**8\n",
    "g7 = X**7\n",
    "g6 = X**6\n",
    "g5 = X**5\n",
    "g4 = X**4\n",
    "g3 = X**3\n",
    "g2 = X**2\n",
    "g1 = X**1\n",
    "g0 = X**0\n",
    "h5 = (X**5)*Y\n",
    "h4 = (X**4)*Y\n",
    "h3 = (X**3)*Y\n",
    "h2 = (X**2)*Y\n",
    "h1 = (X**1)*Y\n",
    "h0 = (X**0)*Y\n",
    "\n",
    "a11 = np.sum(g10)\n",
    "a12 = np.sum(g9)\n",
    "a13 = np.sum(g8)\n",
    "a14 = np.sum(g7)\n",
    "a15 = np.sum(g6)\n",
    "a16 = np.sum(g5)\n",
    "a21 = a12\n",
    "a22 = np.sum(g8)\n",
    "a23 = np.sum(g7)\n",
    "a24 = np.sum(g6)\n",
    "a25 = np.sum(g5)\n",
    "a26 = np.sum(g4)\n",
    "a31 = a13\n",
    "a32 = a23\n",
    "a33 = np.sum(g6)\n",
    "a34 = np.sum(g5)\n",
    "a35 = np.sum(g4)\n",
    "a36 = np.sum(g3)\n",
    "a41 = a14\n",
    "a42 = a24\n",
    "a43 = a34\n",
    "a44 = np.sum(g4)\n",
    "a45 = np.sum(g3)\n",
    "a46 = np.sum(g2)\n",
    "a51 = a15\n",
    "a52 = a25\n",
    "a53 = a35\n",
    "a54 = a45\n",
    "a55 = np.sum(g2)\n",
    "a56 = np.sum(g1)\n",
    "a61 = a16\n",
    "a62 = a26\n",
    "a63 = a36\n",
    "a64 = a46\n",
    "a65 = a56\n",
    "a66 = np.sum(g0)\n",
    "\n",
    "b1 = np.sum(h5)\n",
    "b2 = np.sum(h4)\n",
    "b3 = np.sum(h3)\n",
    "b4 = np.sum(h2)\n",
    "b5 = np.sum(h1)\n",
    "b6 = np.sum(h0)\n",
    "\n",
    "A = np.array([[a11,a12, a13, a14, a15, a16],[a21, a22, a23, a24, a25, a26], [a31, a32, a33, a34, a35, a36], [a41, a42, a43, a44, a45, a46], [a51, a52, a53, a54, a55, a56], [a61, a62, a63, a64, a65, a66]])\n",
    "B = np.array([[b1] , [b2],  [b3],  [b4],  [b5],  [b6]])\n",
    " \n",
    "\n",
    "\n",
    "a = solve(A, B)\n",
    "\n",
    "print(a)\n",
    "\n",
    "\n",
    "i = lambda x: 1.85297619*(10**(-7))*(x**4) - 4.40476190*(10**(-10))*(x**5) - 2.24333333*(10**(-5))*(x**3) + 0.00142489881*(x**2) - 0.0601865476*x + 1.787\n",
    "Xp = np.linspace(X[0], X[-1], num=10) \n",
    "Yp = []\n",
    "for x in Xp:\n",
    "    y = i(x)\n",
    "    Yp.append(y)\n",
    "\n",
    "    \n",
    "plt.plot(X, Y, 'ro', Xp, Yp,'-', )\n",
    "plt.grid()\n",
    "plt.show()\n",
    "\n",
    "\n",
    "\n"
   ]
  },
  {
   "cell_type": "markdown",
   "metadata": {},
   "source": [
    "## Questão 5\n",
    " "
   ]
  },
  {
   "cell_type": "code",
   "execution_count": 172,
   "metadata": {},
   "outputs": [
    {
     "name": "stdout",
     "output_type": "stream",
     "text": [
      "O valor de m é [4.72446756]\n",
      "O valor de B é 1.4611221255378586\n"
     ]
    },
    {
     "data": {
      "image/png": "[encoded data removed]",
      "text/plain": [
       "<matplotlib.figure.Figure at 0x1fb3d415f98>"
      ]
     },
     "metadata": {},
     "output_type": "display_data"
    },
    {
     "data": {
      "image/png": "[encoded data removed]",
      "text/plain": [
       "<matplotlib.figure.Figure at 0x1fb3ba87f60>"
      ]
     },
     "metadata": {},
     "output_type": "display_data"
    }
   ],
   "source": [
    "% matplotlib inline\n",
    "import numpy as np\n",
    "from scipy.linalg import solve\n",
    "import matplotlib.pyplot as plt\n",
    "from scipy.integrate import quad\n",
    "import math\n",
    "from numpy import exp\n",
    "\n",
    "X = np.array([0.0004, 0.0011, 0.0021, 0.0031])\n",
    "Y = np.array([5.775, 8.577, 10.874, 12.555])\n",
    "\n",
    "L = np.log(X)\n",
    "K = np.log(Y)\n",
    "\n",
    "A11 = np.sum(L**2)\n",
    "A12 = np.sum(L**1)\n",
    "A21 = A12\n",
    "A22 = np.sum(L**0)\n",
    "\n",
    "B1 = np.sum(L*K) \n",
    "B2 = np.sum(K)\n",
    "\n",
    "A = np.array([[A11, A12],[A21, A22]])\n",
    "C = np.array([[B1],[B2]])\n",
    "\n",
    "a = solve(A, C)\n",
    "\n",
    "\n",
    "m = a[1]\n",
    "B = math.exp(a[0])\n",
    "\n",
    "print(\"O valor de m é\", m)\n",
    "print(\"O valor de B é\", B)\n",
    "\n",
    "i= lambda x: 0.379*x + 4.72\n",
    "Xp = np.linspace(X[0], X[-1], num=10) \n",
    "Yp = []\n",
    "for x in Xp:\n",
    "    y = i(x)\n",
    "    Yp.append(y)\n",
    "\n",
    "    \n",
    "plt.plot(L, K, '.', Xp, Yp,'-', )\n",
    "plt.grid()\n",
    "plt.show()\n",
    "\n",
    "p= lambda x: 1.46*x**(4.724)\n",
    "Xp = np.linspace(X[0], X[-1], num=10) \n",
    "Yp = []\n",
    "for x in Xp:\n",
    "    y = p(x)\n",
    "    Yp.append(y)\n",
    "\n",
    "    \n",
    "plt.plot(X, Y, '.', Xp, Yp,'-', )\n",
    "plt.grid()\n",
    "plt.show()\n",
    "\n",
    "\n",
    "\n"
   ]
  },
  {
   "cell_type": "code",
   "execution_count": null,
   "metadata": {},
   "outputs": [],
   "source": []
  }
 ],
 "metadata": {
  "kernelspec": {
   "display_name": "Python 3",
   "language": "python",
   "name": "python3"
  },
  "language_info": {
   "codemirror_mode": {
    "name": "ipython",
    "version": 3
   },
   "file_extension": ".py",
   "mimetype": "text/x-python",
   "name": "python",
   "nbconvert_exporter": "python",
   "pygments_lexer": "ipython3",
   "version": "3.6.4"
  }
 },
 "nbformat": 4,
 "nbformat_minor": 2
}
